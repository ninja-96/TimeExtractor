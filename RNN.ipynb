{
 "cells": [
  {
   "cell_type": "code",
   "execution_count": 1,
   "metadata": {},
   "outputs": [],
   "source": [
    "import time\n",
    "import copy\n",
    "import random\n",
    "import glob\n",
    "\n",
    "import cv2\n",
    "import numpy as np\n",
    "\n",
    "import torch\n",
    "import torch.nn as nn\n",
    "import torch.optim as optim\n",
    "import torchvision\n",
    "\n",
    "from tqdm import tqdm\n",
    "import matplotlib.pyplot as plt"
   ]
  },
  {
   "cell_type": "code",
   "execution_count": 2,
   "metadata": {},
   "outputs": [],
   "source": [
    "path = './digits2/train/'\n",
    "\n",
    "le = 0\n",
    "for i in range(10):\n",
    "    paths = glob.glob(path + str(i) + '/*.png')\n",
    "    le += len(paths)\n",
    "\n",
    "x_train = torch.zeros((le, 1, 12, 10), dtype=torch.float32)\n",
    "y_train = torch.zeros((le), dtype=torch.long)\n",
    "\n",
    "idx = 0\n",
    "for i in range(10):\n",
    "    paths = glob.glob(path + str(i) + '/*.png')\n",
    "    for p in paths:\n",
    "        img = cv2.imread(p, 0)\n",
    "#         img = cv2.adaptiveThreshold(img, 255, cv2.ADAPTIVE_THRESH_GAUSSIAN_C, cv2.THRESH_BINARY, 5, 1)\n",
    "        \n",
    "        img = np.true_divide(img, 255.0)\n",
    "#         img = img.flatten()\n",
    "        \n",
    "        x_train[idx, 0] = torch.tensor(img)\n",
    "        y_train[idx] = i\n",
    "        \n",
    "        idx += 1"
   ]
  },
  {
   "cell_type": "code",
   "execution_count": 3,
   "metadata": {},
   "outputs": [],
   "source": [
    "path = './digits2/test/'\n",
    "\n",
    "le = 0\n",
    "for i in range(10):\n",
    "    paths = glob.glob(path + str(i) + '/*.png')\n",
    "    le += len(paths)\n",
    "\n",
    "x_test = torch.zeros((le, 1, 12, 10), dtype=torch.float32)\n",
    "y_test = torch.zeros((le), dtype=torch.long)\n",
    "\n",
    "idx = 0\n",
    "for i in range(10):\n",
    "    paths = glob.glob(path + str(i) + '/*.png')\n",
    "    for p in paths:\n",
    "        img = cv2.imread(p, 0)\n",
    "#         img = cv2.adaptiveThreshold(img, 255, cv2.ADAPTIVE_THRESH_GAUSSIAN_C, cv2.THRESH_BINARY, 5, 1)\n",
    "        \n",
    "        img = np.true_divide(img, 255.0)\n",
    "#         img = img.flatten()\n",
    "                \n",
    "        x_test[idx, 0] = torch.tensor(img)\n",
    "        y_test[idx] = i\n",
    "        idx += 1 "
   ]
  },
  {
   "cell_type": "code",
   "execution_count": 4,
   "metadata": {},
   "outputs": [
    {
     "name": "stdout",
     "output_type": "stream",
     "text": [
      "torch.Size([47, 1, 12, 10])\n",
      "torch.Size([33, 1, 12, 10])\n",
      "torch.Size([47])\n",
      "torch.Size([33])\n"
     ]
    }
   ],
   "source": [
    "print(x_train.shape) \n",
    "print(x_test.shape) \n",
    "print(y_train.shape) \n",
    "print(y_test.shape) "
   ]
  },
  {
   "cell_type": "code",
   "execution_count": 5,
   "metadata": {},
   "outputs": [],
   "source": [
    "device = 'cuda' if torch.cuda.is_available() else 'cpu'"
   ]
  },
  {
   "cell_type": "code",
   "execution_count": 6,
   "metadata": {},
   "outputs": [],
   "source": [
    "class Net(torch.nn.Module):\n",
    "    def __init__(self):\n",
    "        super().__init__()\n",
    "        \n",
    "        self.conv1 = nn.Conv2d(1, 32, 2)\n",
    "        self.bn1 = nn.BatchNorm2d(32)\n",
    "        \n",
    "        self.conv2 = nn.Conv2d(32, 64, 2)\n",
    "        self.bn2 = nn.BatchNorm2d(64)\n",
    "        \n",
    "        self.avgpool = nn.AdaptiveMaxPool2d(output_size=(1, 1))\n",
    "        \n",
    "        self.fc = nn.Linear(64, 10)\n",
    "        self.act = nn.ReLU()\n",
    "        self.pool = nn.MaxPool2d(2)\n",
    "        \n",
    "    def forward(self, x):\n",
    "        x = self.conv1(x)\n",
    "        x = self.bn1(x)\n",
    "        x = self.act(x)\n",
    "        x = self.pool(x)\n",
    "        \n",
    "        x = self.conv2(x)\n",
    "        x = self.bn2(x)\n",
    "        x = self.act(x)\n",
    "        x = self.avgpool(x)\n",
    "        \n",
    "        x = torch.flatten(x, 1) \n",
    "        x = self.fc(x)\n",
    "\n",
    "        return x"
   ]
  },
  {
   "cell_type": "code",
   "execution_count": 7,
   "metadata": {},
   "outputs": [],
   "source": [
    "class DS(torch.utils.data.Dataset):\n",
    "    def __init__(self, x, y):\n",
    "        self.x = x\n",
    "        self.y = y\n",
    "        \n",
    "    def __getitem__(self, index):\n",
    "        return self.x[index], self.y[index]\n",
    "    \n",
    "    def __len__(self):\n",
    "        return len(self.x)"
   ]
  },
  {
   "cell_type": "code",
   "execution_count": 8,
   "metadata": {},
   "outputs": [],
   "source": [
    "train_dataset = DS(x_train, y_train)\n",
    "test_dataset = DS(x_test, y_test)\n",
    "\n",
    "train_dataloader = torch.utils.data.DataLoader(train_dataset, batch_size=4, num_workers=4, shuffle=True)\n",
    "test_dataloader = torch.utils.data.DataLoader(test_dataset, batch_size=4, num_workers=4, shuffle=True)"
   ]
  },
  {
   "cell_type": "code",
   "execution_count": 9,
   "metadata": {},
   "outputs": [],
   "source": [
    "model = Net().to(device)\n",
    "optimizer = optim.Adam(model.parameters(), lr=0.0146)\n",
    "criteria = nn.CrossEntropyLoss()"
   ]
  },
  {
   "cell_type": "code",
   "execution_count": 10,
   "metadata": {},
   "outputs": [
    {
     "name": "stdout",
     "output_type": "stream",
     "text": [
      "0 - 3.00963\n",
      "1 - 2.14787\n",
      "2 - 1.2614\n",
      "3 - 0.80654\n",
      "4 - 0.53728\n",
      "5 - 0.3269\n",
      "6 - 0.3044\n",
      "7 - 0.17165\n",
      "8 - 0.12322\n",
      "9 - 0.05366\n",
      "10 - 0.03847\n",
      "11 - 0.04301\n",
      "12 - 0.04559\n",
      "13 - 0.04108\n",
      "14 - 0.02565\n",
      "15 - 0.03066\n",
      "16 - 0.02364\n",
      "17 - 0.01847\n",
      "18 - 0.0244\n",
      "19 - 0.01012\n",
      "20 - 0.01559\n",
      "21 - 0.00631\n",
      "22 - 0.00437\n",
      "23 - 0.00591\n",
      "24 - 0.00324\n",
      "25 - 0.0027\n",
      "26 - 0.00445\n",
      "27 - 0.00278\n",
      "28 - 0.00185\n",
      "29 - 0.00177\n",
      "30 - 0.008\n",
      "31 - 0.0026\n",
      "32 - 0.0049\n",
      "33 - 0.01243\n",
      "34 - 0.01067\n",
      "35 - 0.006\n",
      "36 - 0.01344\n",
      "37 - 0.00786\n",
      "38 - 0.00727\n",
      "39 - 0.00434\n",
      "40 - 0.00376\n",
      "41 - 0.00399\n",
      "42 - 0.00341\n",
      "43 - 0.0012\n",
      "44 - 0.00167\n",
      "45 - 0.0016\n",
      "46 - 0.00105\n",
      "47 - 0.00132\n",
      "48 - 0.00139\n",
      "49 - 0.00141\n",
      "50 - 0.00086\n",
      "51 - 0.00079\n",
      "52 - 0.00048\n",
      "53 - 0.00078\n",
      "54 - 0.00082\n",
      "55 - 0.00129\n",
      "56 - 0.00566\n",
      "57 - 0.00383\n",
      "58 - 0.00147\n",
      "59 - 0.00153\n",
      "60 - 0.00089\n",
      "61 - 0.00378\n",
      "62 - 0.00148\n",
      "63 - 0.00139\n",
      "64 - 0.00054\n",
      "65 - 0.00169\n",
      "66 - 0.0044\n",
      "67 - 0.01647\n",
      "68 - 0.02885\n",
      "69 - 0.30065\n",
      "70 - 0.55125\n",
      "71 - 0.82748\n",
      "72 - 0.51953\n",
      "73 - 0.18739\n",
      "74 - 0.55689\n",
      "75 - 0.05049\n",
      "76 - 0.05685\n",
      "77 - 0.05378\n",
      "78 - 0.05339\n",
      "79 - 0.00612\n",
      "80 - 0.01477\n",
      "81 - 0.01709\n",
      "82 - 0.01272\n",
      "83 - 0.00733\n",
      "84 - 0.00416\n",
      "85 - 0.0143\n",
      "86 - 0.00216\n",
      "87 - 0.02815\n",
      "88 - 0.00087\n",
      "89 - 0.09328\n",
      "90 - 0.06716\n",
      "91 - 0.0039\n",
      "92 - 0.01159\n",
      "93 - 0.01397\n",
      "94 - 0.00316\n",
      "95 - 0.0058\n"
     ]
    }
   ],
   "source": [
    "for e in range(96):\n",
    "    avg_loss = 0\n",
    "    for imgs, labels in train_dataloader:\n",
    "        optimizer.zero_grad()\n",
    "        \n",
    "        imgs = imgs.to(device)\n",
    "        labels = labels.to(device)\n",
    "                \n",
    "        output = model(imgs)\n",
    "        \n",
    "        loss = criteria(output, labels)\n",
    "        avg_loss += loss.item()\n",
    "        \n",
    "        loss.backward()\n",
    "        optimizer.step()\n",
    "    \n",
    "    print(f'{e} - {round(avg_loss / len(train_dataloader), 5)}')"
   ]
  },
  {
   "cell_type": "code",
   "execution_count": 11,
   "metadata": {},
   "outputs": [],
   "source": [
    "torch.save(model.state_dict(), 'digit_classifier.pt')\n",
    "model = model.cpu().eval()"
   ]
  },
  {
   "cell_type": "code",
   "execution_count": 12,
   "metadata": {},
   "outputs": [],
   "source": [
    "from sklearn import metrics"
   ]
  },
  {
   "cell_type": "code",
   "execution_count": 13,
   "metadata": {},
   "outputs": [],
   "source": [
    "y_test_real = []\n",
    "y_test_pred = []\n",
    "\n",
    "for img, label in test_dataset:\n",
    "    r = model(img.unsqueeze(0))\n",
    "    r = torch.argmax(r)\n",
    "    \n",
    "    y_test_real.append(label.item())\n",
    "    y_test_pred.append(r.item())"
   ]
  },
  {
   "cell_type": "code",
   "execution_count": 14,
   "metadata": {},
   "outputs": [
    {
     "data": {
      "text/plain": [
       "1.0"
      ]
     },
     "execution_count": 14,
     "metadata": {},
     "output_type": "execute_result"
    }
   ],
   "source": [
    "metrics.accuracy_score(y_test_real, y_test_pred)"
   ]
  },
  {
   "cell_type": "code",
   "execution_count": 15,
   "metadata": {},
   "outputs": [
    {
     "name": "stdout",
     "output_type": "stream",
     "text": [
      "              precision    recall  f1-score   support\n",
      "\n",
      "           0       1.00      1.00      1.00         3\n",
      "           1       1.00      1.00      1.00         4\n",
      "           2       1.00      1.00      1.00         3\n",
      "           3       1.00      1.00      1.00         4\n",
      "           4       1.00      1.00      1.00         3\n",
      "           5       1.00      1.00      1.00         3\n",
      "           6       1.00      1.00      1.00         4\n",
      "           7       1.00      1.00      1.00         3\n",
      "           8       1.00      1.00      1.00         2\n",
      "           9       1.00      1.00      1.00         4\n",
      "\n",
      "    accuracy                           1.00        33\n",
      "   macro avg       1.00      1.00      1.00        33\n",
      "weighted avg       1.00      1.00      1.00        33\n",
      "\n"
     ]
    }
   ],
   "source": [
    "print(metrics.classification_report(y_test_real, y_test_pred))"
   ]
  },
  {
   "cell_type": "code",
   "execution_count": 16,
   "metadata": {},
   "outputs": [
    {
     "name": "stdout",
     "output_type": "stream",
     "text": [
      "[[3 0 0 0 0 0 0 0 0 0]\n",
      " [0 4 0 0 0 0 0 0 0 0]\n",
      " [0 0 3 0 0 0 0 0 0 0]\n",
      " [0 0 0 4 0 0 0 0 0 0]\n",
      " [0 0 0 0 3 0 0 0 0 0]\n",
      " [0 0 0 0 0 3 0 0 0 0]\n",
      " [0 0 0 0 0 0 4 0 0 0]\n",
      " [0 0 0 0 0 0 0 3 0 0]\n",
      " [0 0 0 0 0 0 0 0 2 0]\n",
      " [0 0 0 0 0 0 0 0 0 4]]\n"
     ]
    }
   ],
   "source": [
    "print(metrics.confusion_matrix(y_test_real, y_test_pred))"
   ]
  }
 ],
 "metadata": {
  "kernelspec": {
   "display_name": "Python 3",
   "language": "python",
   "name": "python3"
  },
  "language_info": {
   "codemirror_mode": {
    "name": "ipython",
    "version": 3
   },
   "file_extension": ".py",
   "mimetype": "text/x-python",
   "name": "python",
   "nbconvert_exporter": "python",
   "pygments_lexer": "ipython3",
   "version": "3.6.9"
  }
 },
 "nbformat": 4,
 "nbformat_minor": 4
}
