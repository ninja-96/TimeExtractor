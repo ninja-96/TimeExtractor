{
 "cells": [
  {
   "cell_type": "code",
   "execution_count": 1,
   "metadata": {},
   "outputs": [],
   "source": [
    "import pickle\n",
    "import glob\n",
    "import random\n",
    "\n",
    "import cv2\n",
    "import numpy as np\n",
    "\n",
    "from sklearn.linear_model import SGDClassifier, RidgeClassifier\n",
    "from sklearn import svm, metrics\n",
    "\n",
    "from matplotlib import pyplot as plt"
   ]
  },
  {
   "cell_type": "code",
   "execution_count": 2,
   "metadata": {},
   "outputs": [],
   "source": [
    "path = './digits2/train/'\n",
    "\n",
    "le = 0\n",
    "for i in range(10):\n",
    "    paths = glob.glob(path + str(i) + '/*.png')\n",
    "    le += len(paths)\n",
    "\n",
    "x_train = np.zeros((le, 120), dtype=np.float32)\n",
    "y_train = np.zeros((le))\n",
    "\n",
    "idx = 0\n",
    "for i in range(10):\n",
    "    paths = glob.glob(path + str(i) + '/*.png')\n",
    "    for p in paths:\n",
    "        img = cv2.imread(p, 0)\n",
    "        img = cv2.adaptiveThreshold(img, 255, cv2.ADAPTIVE_THRESH_GAUSSIAN_C, cv2.THRESH_BINARY, 5, 1)\n",
    "        \n",
    "        img = np.true_divide(img, 255.0)\n",
    "        img = img.flatten()\n",
    "                \n",
    "        x_train[idx] = img\n",
    "        y_train[idx] = i\n",
    "        idx += 1"
   ]
  },
  {
   "cell_type": "code",
   "execution_count": 3,
   "metadata": {},
   "outputs": [],
   "source": [
    "path = './digits2/test/'\n",
    "\n",
    "le = 0\n",
    "for i in range(10):\n",
    "    paths = glob.glob(path + str(i) + '/*.png')\n",
    "    le += len(paths)\n",
    "\n",
    "x_test = np.zeros((le, 120), dtype=np.float32)\n",
    "y_test = np.zeros((le))\n",
    "\n",
    "idx = 0\n",
    "for i in range(10):\n",
    "    paths = glob.glob(path + str(i) + '/*.png')\n",
    "    for p in paths:\n",
    "        img = cv2.imread(p, 0)\n",
    "        img = cv2.adaptiveThreshold(img, 255, cv2.ADAPTIVE_THRESH_GAUSSIAN_C, cv2.THRESH_BINARY, 5, 1)\n",
    "        \n",
    "        img = np.true_divide(img, 255.0)\n",
    "        img = img.flatten()\n",
    "                \n",
    "        x_test[idx] = img\n",
    "        y_test[idx] = i\n",
    "        idx += 1 "
   ]
  },
  {
   "cell_type": "code",
   "execution_count": 4,
   "metadata": {},
   "outputs": [
    {
     "name": "stdout",
     "output_type": "stream",
     "text": [
      "(47, 120)\n",
      "(33, 120)\n",
      "(47,)\n",
      "(33,)\n"
     ]
    }
   ],
   "source": [
    "print(x_train.shape) \n",
    "print(x_test.shape) \n",
    "print(y_train.shape) \n",
    "print(y_test.shape) "
   ]
  },
  {
   "cell_type": "code",
   "execution_count": 5,
   "metadata": {},
   "outputs": [],
   "source": [
    "# clf = SGDClassifier(loss=\"hinge\", penalty=\"l2\")\n",
    "# clf = RidgeClassifier(normalize=True)\n",
    "clf = svm.SVC()\n",
    "\n",
    "clf.fit(x_train, y_train)\n",
    "\n",
    "pickle.dump(clf, open('SVC.ski', 'wb'))"
   ]
  },
  {
   "cell_type": "code",
   "execution_count": 6,
   "metadata": {},
   "outputs": [
    {
     "name": "stdout",
     "output_type": "stream",
     "text": [
      "[2.] 2.0\n"
     ]
    }
   ],
   "source": [
    "tidx = 7\n",
    "r = clf.predict(x_test[tidx].reshape(1, -1))\n",
    "print(r, y_test[tidx])"
   ]
  },
  {
   "cell_type": "code",
   "execution_count": 7,
   "metadata": {},
   "outputs": [
    {
     "data": {
      "text/plain": [
       "0.9696969696969697"
      ]
     },
     "execution_count": 7,
     "metadata": {},
     "output_type": "execute_result"
    }
   ],
   "source": [
    "y_test_pred = clf.predict(x_test)\n",
    "\n",
    "metrics.accuracy_score(y_test, y_test_pred)"
   ]
  },
  {
   "cell_type": "code",
   "execution_count": 8,
   "metadata": {},
   "outputs": [
    {
     "name": "stdout",
     "output_type": "stream",
     "text": [
      "              precision    recall  f1-score   support\n",
      "\n",
      "         0.0       1.00      0.67      0.80         3\n",
      "         1.0       0.80      1.00      0.89         4\n",
      "         2.0       1.00      1.00      1.00         3\n",
      "         3.0       1.00      1.00      1.00         4\n",
      "         4.0       1.00      1.00      1.00         3\n",
      "         5.0       1.00      1.00      1.00         3\n",
      "         6.0       1.00      1.00      1.00         4\n",
      "         7.0       1.00      1.00      1.00         3\n",
      "         8.0       1.00      1.00      1.00         2\n",
      "         9.0       1.00      1.00      1.00         4\n",
      "\n",
      "    accuracy                           0.97        33\n",
      "   macro avg       0.98      0.97      0.97        33\n",
      "weighted avg       0.98      0.97      0.97        33\n",
      "\n"
     ]
    }
   ],
   "source": [
    "print(metrics.classification_report(y_test, y_test_pred))"
   ]
  },
  {
   "cell_type": "code",
   "execution_count": 9,
   "metadata": {},
   "outputs": [
    {
     "name": "stdout",
     "output_type": "stream",
     "text": [
      "[[2 1 0 0 0 0 0 0 0 0]\n",
      " [0 4 0 0 0 0 0 0 0 0]\n",
      " [0 0 3 0 0 0 0 0 0 0]\n",
      " [0 0 0 4 0 0 0 0 0 0]\n",
      " [0 0 0 0 3 0 0 0 0 0]\n",
      " [0 0 0 0 0 3 0 0 0 0]\n",
      " [0 0 0 0 0 0 4 0 0 0]\n",
      " [0 0 0 0 0 0 0 3 0 0]\n",
      " [0 0 0 0 0 0 0 0 2 0]\n",
      " [0 0 0 0 0 0 0 0 0 4]]\n"
     ]
    }
   ],
   "source": [
    "print(metrics.confusion_matrix(y_test, y_test_pred))"
   ]
  }
 ],
 "metadata": {
  "kernelspec": {
   "display_name": "Python 3",
   "language": "python",
   "name": "python3"
  },
  "language_info": {
   "codemirror_mode": {
    "name": "ipython",
    "version": 3
   },
   "file_extension": ".py",
   "mimetype": "text/x-python",
   "name": "python",
   "nbconvert_exporter": "python",
   "pygments_lexer": "ipython3",
   "version": "3.6.9"
  }
 },
 "nbformat": 4,
 "nbformat_minor": 4
}
